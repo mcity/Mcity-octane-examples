{
 "cells": [
  {
   "cell_type": "markdown",
   "metadata": {},
   "source": [
    "# Python Mcity OCTANE Socket.IO Interface\n",
    "The API provides Socket.IO support for listening to a subscribable streams of events through web sockets.\n",
    "Follow the steps below to test how to utilize the API through jQuery or other web javascript frameworks.\n",
    "Viewing the source of this page will reveal the code running behind the examples shown here.\n",
    "\n",
    "## Connect\n",
    "\n",
    "Real time push event notification through the OCTANE Socket.IO interface utilizes namespaces and channels to control communication. As a client all communication will be done on the /octane namespace. This must be specified when connecting. Channels enable a client to subscribe to specific types of messages by joining or leaving a channel. On connection to the Mcity implementation the client is automatically joined to 2 channels (user, information). Namespaces and channel names are case sensitive. All channels and namespaces used in OCTANE are lower cased.\n",
    "\n",
    "SocketIO Namespace: **/octane**\n",
    "\n",
    "First let's load the required libraries and source our connection parameters from the environment. We'll setup a client and then after discussing authentication, connect."
   ]
  },
  {
   "cell_type": "code",
   "execution_count": 1,
   "metadata": {},
   "outputs": [],
   "source": [
    "import os\n",
    "from dotenv import load_dotenv\n",
    "import socketio\n",
    "#Load environment variables\n",
    "load_dotenv()\n",
    "api_key = os.environ.get('MCITY_OCTANE_KEY', None) \n",
    "server = os.environ.get('MCITY_OCTANE_SERVER', 'http://localhost:5000')\n",
    "namespace = \"/octane\"\n",
    "\n",
    "#If no API Key provided, exit.\n",
    "if not api_key:\n",
    "    print (\"No API KEY SPECIFIED. EXITING\")\n",
    "    exit()\n",
    "    \n",
    "#Create an SocketIO Python client.\n",
    "sio = socketio.Client()"
   ]
  },
  {
   "cell_type": "markdown",
   "metadata": {},
   "source": [
    "## Authentication\n",
    "\n",
    "To use the Socket.IO interface a user must be authenticated. We support two ways of authentication.\n",
    "\n",
    "1. Through a message to the server, after successful connection to socket.IO\n",
    "2. Using a query Parameter\n",
    "\n",
    "The preferred way to authenticate is through the message to server after connect.\n",
    "To do this send  the event \"auth\" with a payload that has a key of x-api-key and value of the API key.\n",
    "\n",
    "If utilizing the query parameter method, set X-API-KEY to your API key. The query parameter is not supported by all transport mechanisms. \n",
    "Query Parameter: **X-API-KEY=API_KEY_HERE**  "
   ]
  },
  {
   "cell_type": "code",
   "execution_count": 2,
   "metadata": {},
   "outputs": [],
   "source": [
    "def send_auth():\n",
    "    \"\"\"\n",
    "    Emit an authentication event with the API key.\n",
    "    \"\"\"\n",
    "    sio.emit('auth', {'x-api-key': api_key}, namespace=namespace)\n",
    "\n",
    "@sio.on('connect', namespace=namespace)\n",
    "def on_connect():\n",
    "    \"\"\"\n",
    "    Handle connection event and send authentication key as soon as it's recieved.\n",
    "    \"\"\"\n",
    "    send_auth()"
   ]
  },
  {
   "cell_type": "markdown",
   "metadata": {},
   "source": [
    "Now we have enough of a structure setup to allow us to connect and authenticate. We have no handlers for messages yet, but that will come next."
   ]
  },
  {
   "cell_type": "code",
   "execution_count": 3,
   "metadata": {},
   "outputs": [],
   "source": [
    "#Make connection.\n",
    "sio.connect(server, namespaces=[namespace])"
   ]
  },
  {
   "cell_type": "markdown",
   "metadata": {},
   "source": [
    "## Receive\n",
    "\n",
    "Immediately after authentication  you'll start to receive different types of messages. \n",
    "\n",
    "The messages you can receive are documented as GET methods at this link: https://mcity.um.city/apidocs/#/WebSockets-Events  The payloads (with exception of user) are structured as documented at the same link. \n",
    "\n",
    "By parsing the payload data from received events we can utilize the facilities real time push notification for changes in infrastructure.\n",
    "\n",
    "Our first setup will be to setup a message handler for intersection messages. We won't see any come across until we subscribe to the intersection channel, but that will happen next."
   ]
  },
  {
   "cell_type": "code",
   "execution_count": 4,
   "metadata": {},
   "outputs": [],
   "source": [
    "@sio.on('intersection_update', namespace=namespace)\n",
    "def on_int_update(data):\n",
    "    \"\"\"\n",
    "    Event fired when an intersection has been updated.\n",
    "    \"\"\"\n",
    "    print('Int[U]:', data)"
   ]
  },
  {
   "cell_type": "markdown",
   "metadata": {},
   "source": [
    "## Subscriptions\n",
    "\n",
    "Channels control the type of events you will receive. To see a listing of channels supported and a description see the API docs section here: https://mcity.um.city/apidocs/#/WebSockets-Channels \n",
    "\n",
    "To get a listing of channels along with your currently subscribed channels emit a channel event with no payload. \n",
    "See documentation on possible event types here: https://mcity.um.city/apidocs/#/WebSockets-Events\n",
    "The server will respond to our emit directly and list both the channels available to the clients and the channels we are currently subscribed to. \n",
    "\n",
    "Let's setup handlers for subscription and channel listing events and then join a channel.\n",
    "\n",
    "On connection the server OCTANE automatically adds your user to the USER and FACILITY information channels and provides a listing of all channels currently subscribed. Since our event handlers were not in place at that time, we didn't see those events happen."
   ]
  },
  {
   "cell_type": "code",
   "execution_count": 5,
   "metadata": {},
   "outputs": [],
   "source": [
    "@sio.on('join', namespace=namespace)\n",
    "def on_join(data):\n",
    "    \"\"\"\n",
    "    Event fired when user joins a channel\n",
    "    \"\"\"\n",
    "    print('Joining:', data)\n",
    "\n",
    "@sio.on('leave', namespace=namespace)\n",
    "def on_leave(data):\n",
    "    \"\"\"\n",
    "    Event fired when user leaves a channel\n",
    "    \"\"\"\n",
    "    print('Leaving:', data)\n",
    "    \n",
    "@sio.on('channels', namespace=namespace)\n",
    "def on_channels(data):\n",
    "    \"\"\"\n",
    "    Event fired when a user requests current channel information.\n",
    "    \"\"\"\n",
    "    print('Channel information', data)"
   ]
  },
  {
   "cell_type": "markdown",
   "metadata": {},
   "source": [
    "With all handlers in place, let's query channels possible, then join a channel, and leave."
   ]
  },
  {
   "cell_type": "code",
   "execution_count": 6,
   "metadata": {},
   "outputs": [
    {
     "name": "stdout",
     "output_type": "stream",
     "text": [
      "Channel information {'channels': [{'name': 'facility', 'subscribed': True}, {'name': 'user', 'subscribed': True}, {'name': 'v2x', 'subscribed': False}, {'name': 'crosswalk', 'subscribed': False}, {'name': 'gate', 'subscribed': False}, {'name': 'railcrossing', 'subscribed': False}, {'name': 'signal', 'subscribed': False}, {'name': 'intersection', 'subscribed': False}]}\n"
     ]
    }
   ],
   "source": [
    "sio.emit('channels', namespace='/octane')"
   ]
  },
  {
   "cell_type": "code",
   "execution_count": 7,
   "metadata": {},
   "outputs": [
    {
     "name": "stdout",
     "output_type": "stream",
     "text": [
      "Joining: {'join': 'crosswalk'}\n"
     ]
    }
   ],
   "source": [
    "sio.emit('join', {'channel': 'crosswalk'}, namespace='/octane')"
   ]
  },
  {
   "cell_type": "code",
   "execution_count": 8,
   "metadata": {},
   "outputs": [
    {
     "name": "stdout",
     "output_type": "stream",
     "text": [
      "Channel information {'channels': [{'name': 'facility', 'subscribed': True}, {'name': 'user', 'subscribed': True}, {'name': 'v2x', 'subscribed': False}, {'name': 'crosswalk', 'subscribed': True}, {'name': 'gate', 'subscribed': False}, {'name': 'railcrossing', 'subscribed': False}, {'name': 'signal', 'subscribed': False}, {'name': 'intersection', 'subscribed': False}]}\n"
     ]
    }
   ],
   "source": [
    "sio.emit('channels', namespace='/octane')"
   ]
  },
  {
   "cell_type": "code",
   "execution_count": 9,
   "metadata": {},
   "outputs": [
    {
     "name": "stdout",
     "output_type": "stream",
     "text": [
      "Leaving: {'leave': 'crosswalk'}\n"
     ]
    }
   ],
   "source": [
    "sio.emit('leave', {'channel': 'crosswalk'}, namespace='/octane')"
   ]
  },
  {
   "cell_type": "code",
   "execution_count": 10,
   "metadata": {},
   "outputs": [
    {
     "name": "stdout",
     "output_type": "stream",
     "text": [
      "Channel information {'channels': [{'name': 'facility', 'subscribed': True}, {'name': 'user', 'subscribed': True}, {'name': 'v2x', 'subscribed': False}, {'name': 'crosswalk', 'subscribed': False}, {'name': 'gate', 'subscribed': False}, {'name': 'railcrossing', 'subscribed': False}, {'name': 'signal', 'subscribed': False}, {'name': 'intersection', 'subscribed': False}]}\n"
     ]
    }
   ],
   "source": [
    "sio.emit('channels', namespace='/octane')"
   ]
  },
  {
   "cell_type": "markdown",
   "metadata": {},
   "source": [
    "## Communication:\n",
    "OCTANE enables a user to communicate using Socket.IO with other clients. This is useful for implementing both process synchronization and just basic communication of users while testing.\n",
    "\n",
    "This type of communication only occurs on the USER channel to which you are automatically subscribed on connection. For more information about this channel see the API documentation here: https://mcity.um.city/apidocs/#/WebSockets-Channels \n",
    "\n",
    "The format of these messages and payloads is left to the user. Anything submitted on this event, will be emitted to all other users currently connected to the API. \n",
    "\n",
    "Let's setup a handler for this and emit an event to the users channel."
   ]
  },
  {
   "cell_type": "code",
   "execution_count": 11,
   "metadata": {},
   "outputs": [],
   "source": [
    "@sio.on('user_message', namespace=namespace)\n",
    "def on_user_message(data):\n",
    "    \"\"\"\n",
    "    Event fired when a user sends a message to the user event channel.\n",
    "    \"\"\"\n",
    "    print('User Message:', data)"
   ]
  },
  {
   "cell_type": "code",
   "execution_count": 12,
   "metadata": {},
   "outputs": [
    {
     "name": "stdout",
     "output_type": "stream",
     "text": [
      "User Message: {'message': 'Testing messaging'}\n"
     ]
    }
   ],
   "source": [
    "sio.emit('user_message', {'message': 'Testing messaging'}, namespace='/octane')"
   ]
  },
  {
   "cell_type": "markdown",
   "metadata": {},
   "source": [
    "## Disconnecting\n",
    "\n",
    "To disconnect from the server send a disconnect_request event.\n",
    "\n",
    "If you submit a disconnect_event, the server will cleanup your subscriptions and then forcefully disconnect you.\n",
    "\n",
    "Let's disconnect from OCTANE by emitting a disconnect_event.\n"
   ]
  },
  {
   "cell_type": "code",
   "execution_count": 13,
   "metadata": {},
   "outputs": [],
   "source": [
    "@sio.on('disconnect_request', namespace=namespace)\n",
    "def on_disconnect_request(data):\n",
    "    \"\"\"\n",
    "    Event fired on disconnect request.\n",
    "    \"\"\"\n",
    "    print('Ask to disconnect from server', data)\n",
    "    \n",
    "@sio.on('disconnect', namespace=namespace)\n",
    "def on_disconnect_request():\n",
    "    \"\"\"\n",
    "    Event fired on disconnec.\n",
    "    \"\"\"\n",
    "    print('Disconnected from server')"
   ]
  },
  {
   "cell_type": "code",
   "execution_count": 14,
   "metadata": {},
   "outputs": [
    {
     "name": "stdout",
     "output_type": "stream",
     "text": [
      "Disconnected from server\n"
     ]
    }
   ],
   "source": [
    "sio.emit('disconnect_request', namespace='/octane')"
   ]
  }
 ],
 "metadata": {
  "kernelspec": {
   "display_name": "Python 3",
   "language": "python",
   "name": "python3"
  },
  "language_info": {
   "codemirror_mode": {
    "name": "ipython",
    "version": 3
   },
   "file_extension": ".py",
   "mimetype": "text/x-python",
   "name": "python",
   "nbconvert_exporter": "python",
   "pygments_lexer": "ipython3",
   "version": "3.7.3"
  }
 },
 "nbformat": 4,
 "nbformat_minor": 2
}
